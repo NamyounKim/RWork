{
 "cells": [
  {
   "cell_type": "code",
   "execution_count": 7,
   "metadata": {},
   "outputs": [],
   "source": [
    "\n",
    "#Imports the libraries and read the data files\n",
    "\n",
    "import numpy as np # linear algebra\n",
    "import pandas as pd # data processing, CSV file I/O (e.g. pd.read_csv)\n",
    "import re\n",
    "import os, sys, email\n",
    "import gensim\n",
    "from gensim.models import Doc2Vec\n",
    "from nltk.tokenize import RegexpTokenizer\n",
    "from nltk.corpus import stopwords\n",
    "from nltk.stem.porter import PorterStemmer\n",
    "import nltk\n",
    "from string import punctuation\n",
    "import timeit\n",
    "from sklearn.cluster import KMeans\n",
    "from sklearn import metrics\n",
    "import pylab as pl\n",
    "import matplotlib.pyplot as plt\n",
    "from sklearn.decomposition import PCA\n"
   ]
  },
  {
   "cell_type": "code",
   "execution_count": 8,
   "metadata": {},
   "outputs": [],
   "source": [
    "emails_df = pd.read_csv('/Users/kakao/Documents/GitHub/RWork/FastCampus/petition.csv', nrows=50000)"
   ]
  },
  {
   "cell_type": "code",
   "execution_count": 10,
   "metadata": {},
   "outputs": [
    {
     "data": {
      "text/html": [
       "<div>\n",
       "<style scoped>\n",
       "    .dataframe tbody tr th:only-of-type {\n",
       "        vertical-align: middle;\n",
       "    }\n",
       "\n",
       "    .dataframe tbody tr th {\n",
       "        vertical-align: top;\n",
       "    }\n",
       "\n",
       "    .dataframe thead th {\n",
       "        text-align: right;\n",
       "    }\n",
       "</style>\n",
       "<table border=\"1\" class=\"dataframe\">\n",
       "  <thead>\n",
       "    <tr style=\"text-align: right;\">\n",
       "      <th></th>\n",
       "      <th>doc_id</th>\n",
       "      <th>link</th>\n",
       "      <th>category</th>\n",
       "      <th>agree_count</th>\n",
       "      <th>title</th>\n",
       "      <th>content</th>\n",
       "      <th>startDate</th>\n",
       "      <th>endDate</th>\n",
       "      <th>agreeCount</th>\n",
       "      <th>pasred</th>\n",
       "    </tr>\n",
       "  </thead>\n",
       "  <tbody>\n",
       "    <tr>\n",
       "      <th>0</th>\n",
       "      <td>100108</td>\n",
       "      <td>https://www1.president.go.kr/petitions/100108?...</td>\n",
       "      <td>분류  보건복지</td>\n",
       "      <td>316.0</td>\n",
       "      <td>대한민국의 진정성 있는 중증외상센터를 위한 2차 청원 (재청원)</td>\n",
       "      <td>북한 귀순병 사건으로 인해 그동안 정말 형편없었던 대한민국 중증 외상 민낯이 재차 ...</td>\n",
       "      <td>2018-01-17</td>\n",
       "      <td>2018-02-16</td>\n",
       "      <td>316.0</td>\n",
       "      <td>북한 귀순병 사건 인하다 그동안 형편없다 대한민국 중증 외상 민낯 밝히다 지다 대한...</td>\n",
       "    </tr>\n",
       "    <tr>\n",
       "      <th>1</th>\n",
       "      <td>100137</td>\n",
       "      <td>https://www1.president.go.kr/petitions/100137?...</td>\n",
       "      <td>분류  안전/환경</td>\n",
       "      <td>2536.0</td>\n",
       "      <td>저희는 노예가 아니예요</td>\n",
       "      <td>이마트에서근무하고있는 파트너입니다 말이정규직이지 여러가지 불이익을 받고있음에도 불구...</td>\n",
       "      <td>2018-01-17</td>\n",
       "      <td>2018-02-16</td>\n",
       "      <td>2536.0</td>\n",
       "      <td>이마트 근무 있다 파트너 말 정규직 불이익 받다 있다 불구하다 일 있다 이번 최저임...</td>\n",
       "    </tr>\n",
       "    <tr>\n",
       "      <th>2</th>\n",
       "      <td>100165</td>\n",
       "      <td>https://www1.president.go.kr/petitions/100165?...</td>\n",
       "      <td>분류  보건복지</td>\n",
       "      <td>237.0</td>\n",
       "      <td>포항지진진앙지 근처임대아파트사는 사람은 포항시민 아닌가요?</td>\n",
       "      <td>포항지진 진앙지근처 임대 아파트사는 입주민입니다.lh 임대아파트 사는 사람들은 이번...</td>\n",
       "      <td>2018-01-17</td>\n",
       "      <td>2018-02-16</td>\n",
       "      <td>237.0</td>\n",
       "      <td>포항 지진 진앙 지근 처 임대 아파트 살다 입주민 lh 임대 아파트 살다 사람 이번...</td>\n",
       "    </tr>\n",
       "    <tr>\n",
       "      <th>3</th>\n",
       "      <td>100256</td>\n",
       "      <td>https://www1.president.go.kr/petitions/100256?...</td>\n",
       "      <td>분류  육아/교육</td>\n",
       "      <td>371.0</td>\n",
       "      <td>제 친구 보발분교를 살려주세요</td>\n",
       "      <td>제목: 제 친구 보발분교를 살려주세요 대통령 할아버지 안녕하세요? 저는 지난 1월 ...</td>\n",
       "      <td>2018-01-17</td>\n",
       "      <td>2018-02-16</td>\n",
       "      <td>371.0</td>\n",
       "      <td>제목 친구 보발 분교 살리다 주다 대통령 할아버지 안녕 제 지나다 1월 5일 보발 ...</td>\n",
       "    </tr>\n",
       "    <tr>\n",
       "      <th>4</th>\n",
       "      <td>100294</td>\n",
       "      <td>https://www1.president.go.kr/petitions/100294?...</td>\n",
       "      <td>분류  인권/성평등</td>\n",
       "      <td>409.0</td>\n",
       "      <td>시대착오적인 복장 규제를 없애 주세요</td>\n",
       "      <td>안녕하세요. 저는 중학교 졸업과 고등학교 입학을 앞둔 중학교 3학년 학생입니다. 저...</td>\n",
       "      <td>2018-01-17</td>\n",
       "      <td>2018-02-16</td>\n",
       "      <td>409.0</td>\n",
       "      <td>안녕 제 중학교 졸업 고등 학교 입학 앞두다 중학교 학년 학생 제 며칠 전 제 입학...</td>\n",
       "    </tr>\n",
       "  </tbody>\n",
       "</table>\n",
       "</div>"
      ],
      "text/plain": [
       "   doc_id                                               link    category  \\\n",
       "0  100108  https://www1.president.go.kr/petitions/100108?...    분류  보건복지   \n",
       "1  100137  https://www1.president.go.kr/petitions/100137?...   분류  안전/환경   \n",
       "2  100165  https://www1.president.go.kr/petitions/100165?...    분류  보건복지   \n",
       "3  100256  https://www1.president.go.kr/petitions/100256?...   분류  육아/교육   \n",
       "4  100294  https://www1.president.go.kr/petitions/100294?...  분류  인권/성평등   \n",
       "\n",
       "   agree_count                                title  \\\n",
       "0        316.0  대한민국의 진정성 있는 중증외상센터를 위한 2차 청원 (재청원)   \n",
       "1       2536.0                         저희는 노예가 아니예요   \n",
       "2        237.0     포항지진진앙지 근처임대아파트사는 사람은 포항시민 아닌가요?   \n",
       "3        371.0                     제 친구 보발분교를 살려주세요   \n",
       "4        409.0                 시대착오적인 복장 규제를 없애 주세요   \n",
       "\n",
       "                                             content   startDate     endDate  \\\n",
       "0  북한 귀순병 사건으로 인해 그동안 정말 형편없었던 대한민국 중증 외상 민낯이 재차 ...  2018-01-17  2018-02-16   \n",
       "1  이마트에서근무하고있는 파트너입니다 말이정규직이지 여러가지 불이익을 받고있음에도 불구...  2018-01-17  2018-02-16   \n",
       "2  포항지진 진앙지근처 임대 아파트사는 입주민입니다.lh 임대아파트 사는 사람들은 이번...  2018-01-17  2018-02-16   \n",
       "3  제목: 제 친구 보발분교를 살려주세요 대통령 할아버지 안녕하세요? 저는 지난 1월 ...  2018-01-17  2018-02-16   \n",
       "4  안녕하세요. 저는 중학교 졸업과 고등학교 입학을 앞둔 중학교 3학년 학생입니다. 저...  2018-01-17  2018-02-16   \n",
       "\n",
       "   agreeCount                                             pasred  \n",
       "0       316.0  북한 귀순병 사건 인하다 그동안 형편없다 대한민국 중증 외상 민낯 밝히다 지다 대한...  \n",
       "1      2536.0  이마트 근무 있다 파트너 말 정규직 불이익 받다 있다 불구하다 일 있다 이번 최저임...  \n",
       "2       237.0  포항 지진 진앙 지근 처 임대 아파트 살다 입주민 lh 임대 아파트 살다 사람 이번...  \n",
       "3       371.0  제목 친구 보발 분교 살리다 주다 대통령 할아버지 안녕 제 지나다 1월 5일 보발 ...  \n",
       "4       409.0  안녕 제 중학교 졸업 고등 학교 입학 앞두다 중학교 학년 학생 제 며칠 전 제 입학...  "
      ]
     },
     "execution_count": 10,
     "metadata": {},
     "output_type": "execute_result"
    }
   ],
   "source": [
    "emails_df.head(5)"
   ]
  },
  {
   "cell_type": "code",
   "execution_count": 24,
   "metadata": {},
   "outputs": [
    {
     "name": "stdout",
     "output_type": "stream",
     "text": [
      "국토 부 초환 예상 금액 최고 달하다 보도 구체 지명 산정 방식 공개 않다 있다 재건축 매수 예정자 겁 줏다 가격 잡다 위하다 것 보이다 정부 다급하다 5월 예정 발표 시점 하다 것 짐작 가다 재건축 단지 혼란 불만 폭주 있다 단지 나오다 산정 것 묻다 언론 질문 국토 부 공무원 묵비 행사 중 국민 혈세 월급 받다 일 공무원 국민 재산 직결 정당하다 질의 묵비 행사 시장 혼란 부추기다 있다 이것 나라 국토 부 명과 산정 방식 기준 투명 공개 그러다 나다 건축 아파트 살다 것 포기 겁 주다 \n"
     ]
    }
   ],
   "source": [
    "content = emails_df['pasred']\n",
    "print(content[222])\n",
    "\n"
   ]
  },
  {
   "cell_type": "code",
   "execution_count": 30,
   "metadata": {},
   "outputs": [
    {
     "name": "stdout",
     "output_type": "stream",
     "text": [
      "Number of non-empty emails vectors:  9277\n"
     ]
    }
   ],
   "source": [
    "LabeledSentence1 = gensim.models.doc2vec.TaggedDocument\n",
    "parsed_content = []\n",
    "j=0\n",
    "for doc in content:\n",
    "    if doc:\n",
    "        parsed_content.append(LabeledSentence1(doc, [j]))\n",
    "        j+=1\n",
    "        \n",
    "print(\"Number of non-empty emails vectors: \", j)\n"
   ]
  },
  {
   "cell_type": "code",
   "execution_count": 32,
   "metadata": {},
   "outputs": [
    {
     "name": "stdout",
     "output_type": "stream",
     "text": [
      "TaggedDocument(이마트 근무 있다 파트너 말 정규직 불이익 받다 있다 불구하다 일 있다 이번 최저임금 오르다 희망 부풀다 인원 감소 매일 지치다 가다 있다 이번 시간 감축 저희 희롱 있다 시간 단축 주다 꽁수 식사 시간 무급 1시간 이외 휴식 시간 없다 하다 행복 일터 지치다 가다 있다 시간 춥다 겨울 땀 흘리다 뛰다 일 있다 환경 휴식 시간 없다 것 말 되다 1시간 줄이다 놓다 휴식 시간 빼앗다 꽁수 말리다 주다 머물다 힘없다 저희 지치다 쓰러지다 가다 있다 , [1])\n"
     ]
    }
   ],
   "source": [
    "print(parsed_content[1])"
   ]
  },
  {
   "cell_type": "code",
   "execution_count": 35,
   "metadata": {},
   "outputs": [],
   "source": [
    "d2v_model = Doc2Vec(parsed_content, vector_size = 1000, window = 10, min_count = 500, workers=7, dm = 1, \n",
    "                alpha=0.025, min_alpha=0.001)"
   ]
  },
  {
   "cell_type": "code",
   "execution_count": 37,
   "metadata": {},
   "outputs": [],
   "source": [
    "d2v_model.train(parsed_content, total_examples=d2v_model.corpus_count, epochs=10, start_alpha=0.002, end_alpha=-0.016)"
   ]
  },
  {
   "cell_type": "code",
   "execution_count": 44,
   "metadata": {},
   "outputs": [
    {
     "name": "stdout",
     "output_type": "stream",
     "text": [
      "[(2974, 0.9316567778587341), (4382, 0.9266626834869385), (3847, 0.9217629432678223), (5015, 0.9200963973999023), (4965, 0.9199408292770386), (5394, 0.9197249412536621), (3811, 0.9190701246261597), (4931, 0.9182608127593994), (3203, 0.9165642261505127), (4506, 0.9165630340576172)]\n"
     ]
    },
    {
     "name": "stderr",
     "output_type": "stream",
     "text": [
      "/anaconda3/lib/python3.6/site-packages/gensim/matutils.py:737: FutureWarning: Conversion of the second argument of issubdtype from `int` to `np.signedinteger` is deprecated. In future, it will be treated as `np.int64 == np.dtype(int).type`.\n",
      "  if np.issubdtype(vec.dtype, np.int):\n"
     ]
    }
   ],
   "source": [
    "print (d2v_model.docvecs.most_similar(3911))"
   ]
  },
  {
   "cell_type": "code",
   "execution_count": 47,
   "metadata": {},
   "outputs": [
    {
     "name": "stdout",
     "output_type": "stream",
     "text": [
      "TaggedDocument(국민 밉상 오너 경영 대한항공 사명 변경 하다 , [3847])\n",
      "TaggedDocument(대한항공 자매 나라 망신 어디 사람 대한 이름 주다 이름 바꾸다 하다 주다 좋다 이름 많다 않다 그 자매 어울리다 갑질 항공 막말 항공 부끄럽다 인간 대한항공 고위직 , [3911])\n"
     ]
    }
   ],
   "source": [
    "print(parsed_content[3847])\n",
    "print(parsed_content[3911])"
   ]
  },
  {
   "cell_type": "code",
   "execution_count": null,
   "metadata": {},
   "outputs": [],
   "source": []
  }
 ],
 "metadata": {
  "kernelspec": {
   "display_name": "Python 3",
   "language": "python",
   "name": "python3"
  },
  "language_info": {
   "codemirror_mode": {
    "name": "ipython",
    "version": 3
   },
   "file_extension": ".py",
   "mimetype": "text/x-python",
   "name": "python",
   "nbconvert_exporter": "python",
   "pygments_lexer": "ipython3",
   "version": "3.6.5"
  }
 },
 "nbformat": 4,
 "nbformat_minor": 2
}
